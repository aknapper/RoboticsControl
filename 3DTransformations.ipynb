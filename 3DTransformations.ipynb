{
 "cells": [
  {
   "cell_type": "markdown",
   "id": "b6f5f353",
   "metadata": {},
   "source": [
    "# 3D Transformations Calculations"
   ]
  },
  {
   "cell_type": "markdown",
   "id": "64c1ba3d",
   "metadata": {},
   "source": [
    "## Why is this useful?\n",
    "This notebook is for performing matrix transformations typically used for the forward and inverse kinematics of robot manipulators."
   ]
  },
  {
   "cell_type": "markdown",
   "id": "11d730f5",
   "metadata": {},
   "source": [
    "###### Setting up notebook with composed transformation funtions"
   ]
  },
  {
   "cell_type": "code",
   "execution_count": 72,
   "id": "03aa584c",
   "metadata": {},
   "outputs": [],
   "source": [
    "from composed_transformations import forwardQ_TRPY, A_matrix\n",
    "from math import sqrt\n",
    "import numpy as np\n",
    "from numpy import cos, deg2rad, sin, deg2rad"
   ]
  },
  {
   "cell_type": "markdown",
   "id": "acbe301a",
   "metadata": {},
   "source": [
    "### Forward transformation (TRPY) Example"
   ]
  },
  {
   "cell_type": "markdown",
   "id": "6762040f",
   "metadata": {},
   "source": [
    "Calculate forward composed transformations as follows:"
   ]
  },
  {
   "cell_type": "raw",
   "id": "02a473ef",
   "metadata": {},
   "source": [
    "forwardQ_TRPY(ztrans, ytrans, xtrans, roll, pitch, yaw):\n",
    "    '''\n",
    "    Takes in z,y,x trasnlation coordinates and roll,pitch,yaw data in degrees and calculates the forward composed\n",
    "    transformation using the TRPY convention.\n",
    "    '''"
   ]
  },
  {
   "cell_type": "code",
   "execution_count": 73,
   "id": "6a36c102",
   "metadata": {},
   "outputs": [
    {
     "data": {
      "text/plain": [
       "array([[  0.61237244,  -0.70710678,  -0.35355339,  15.        ],\n",
       "       [  0.61237244,   0.70710678,  -0.35355339,  40.        ],\n",
       "       [  0.5       ,   0.        ,   0.8660254 , -10.        ],\n",
       "       [  0.        ,   0.        ,   0.        ,   1.        ]])"
      ]
     },
     "execution_count": 73,
     "metadata": {},
     "output_type": "execute_result"
    }
   ],
   "source": [
    "forwardQ_TRPY(-10,40,15,45,-30,0)"
   ]
  },
  {
   "cell_type": "markdown",
   "id": "e0401441",
   "metadata": {},
   "source": [
    "### Defining Matrices using Numpy"
   ]
  },
  {
   "cell_type": "markdown",
   "id": "3624d54b",
   "metadata": {},
   "source": [
    "###### Define matrices as follows:"
   ]
  },
  {
   "cell_type": "code",
   "execution_count": 74,
   "id": "08e839aa",
   "metadata": {},
   "outputs": [
    {
     "data": {
      "text/plain": [
       "array([[  0.7071,   0.7071,   0.    , -10.    ],\n",
       "       [  0.    ,   0.    ,   1.    ,  20.    ],\n",
       "       [  0.7071,  -0.7071,   0.    ,  -5.    ],\n",
       "       [  0.    ,   0.    ,   0.    ,   1.    ]])"
      ]
     },
     "execution_count": 74,
     "metadata": {},
     "output_type": "execute_result"
    }
   ],
   "source": [
    "np.array([[0.7071,0.7071,0,-10],\n",
    "         [0,0,1,20],\n",
    "         [0.7071,-0.7071,0,-5],\n",
    "         [0,0,0,1]])"
   ]
  },
  {
   "cell_type": "markdown",
   "id": "60dcfd92",
   "metadata": {},
   "source": [
    "### A-Matrix Calculation Example"
   ]
  },
  {
   "cell_type": "markdown",
   "id": "4609061d",
   "metadata": {},
   "source": [
    "Define A-matrix as follows:"
   ]
  },
  {
   "cell_type": "raw",
   "id": "0d293c24",
   "metadata": {},
   "source": [
    "A_matrix (l, d, alpha, theta):\n",
    "    '''\n",
    "    Calculates the A matrix given the following Denavit-Hartenburg parameters:\n",
    "    l = distance between Zi and Zi+1\n",
    "    d = distance between Xi and Xi+1\n",
    "    alpha = angle between Zi and Zi+1\n",
    "    theta = angle between Xi and Xi+1\n",
    "    '''"
   ]
  },
  {
   "cell_type": "code",
   "execution_count": 75,
   "id": "49cc07ac",
   "metadata": {},
   "outputs": [
    {
     "data": {
      "text/plain": [
       "array([[ 0.8660254 , -0.5       ,  0.        , 43.30127019],\n",
       "       [ 0.5       ,  0.8660254 , -0.        , 25.        ],\n",
       "       [ 0.        ,  0.        ,  1.        , 60.        ],\n",
       "       [ 0.        ,  0.        ,  0.        ,  1.        ]])"
      ]
     },
     "execution_count": 75,
     "metadata": {},
     "output_type": "execute_result"
    }
   ],
   "source": [
    "A_matrix(50,60,0,30)"
   ]
  },
  {
   "cell_type": "markdown",
   "id": "667c3e0f",
   "metadata": {},
   "source": [
    "## Example Problem 1"
   ]
  },
  {
   "cell_type": "markdown",
   "id": "c35bd0e3",
   "metadata": {},
   "source": [
    "Find (Q_21^-1) * Q_31 * pA_r3"
   ]
  },
  {
   "cell_type": "raw",
   "id": "982c288c",
   "metadata": {},
   "source": [
    "Q21 = np.array([[0,-1,0,3],\n",
    "               [0,0,-1,6],\n",
    "               [1,0,0,9],\n",
    "               [0,0,0,1]])\n",
    "Q31 = np.array([[0.7071,0.7071,0,-10],\n",
    "               [0,0,1,20],\n",
    "               [0.7071,-0.7071,0,-5],\n",
    "               [0,0,0,1]])\n",
    "pA_r3 = np.array([[18],\n",
    "                  [12],\n",
    "                  [-10],\n",
    "                  [1]])"
   ]
  },
  {
   "cell_type": "code",
   "execution_count": 76,
   "id": "204e1cf0",
   "metadata": {},
   "outputs": [
    {
     "data": {
      "text/plain": [
       "array([[-9.7574],\n",
       "       [-8.213 ],\n",
       "       [-4.    ],\n",
       "       [ 1.    ]])"
      ]
     },
     "execution_count": 76,
     "metadata": {},
     "output_type": "execute_result"
    }
   ],
   "source": [
    "np.linalg.inv(Q21) @ Q31 @ pA_r3\n"
   ]
  },
  {
   "cell_type": "markdown",
   "id": "e98c61ef",
   "metadata": {},
   "source": [
    "## Example Problem 2"
   ]
  },
  {
   "cell_type": "markdown",
   "id": "2705c48e",
   "metadata": {},
   "source": [
    "Find (Q_gripbase^-1) * Q_graspbase"
   ]
  },
  {
   "cell_type": "code",
   "execution_count": 77,
   "id": "7183f7fb",
   "metadata": {},
   "outputs": [],
   "source": [
    "Q_gripbase = forwardQ_TRPY(40,20,150,90,0,90)\n",
    "Q_graspbase = forwardQ_TRPY(-70,20,200,90,0,115)"
   ]
  },
  {
   "cell_type": "code",
   "execution_count": 78,
   "id": "63fd433b",
   "metadata": {},
   "outputs": [
    {
     "data": {
      "text/plain": [
       "array([[   1.        ,    0.        ,    0.        ,    0.        ],\n",
       "       [   0.        ,    0.90630779,   -0.42261826, -110.        ],\n",
       "       [   0.        ,    0.42261826,    0.90630779,   50.        ],\n",
       "       [   0.        ,    0.        ,    0.        ,    1.        ]])"
      ]
     },
     "execution_count": 78,
     "metadata": {},
     "output_type": "execute_result"
    }
   ],
   "source": [
    "np.linalg.inv(Q_gripbase) @ Q_graspbase"
   ]
  }
 ],
 "metadata": {
  "kernelspec": {
   "display_name": "Python 3 (ipykernel)",
   "language": "python",
   "name": "python3"
  },
  "language_info": {
   "codemirror_mode": {
    "name": "ipython",
    "version": 3
   },
   "file_extension": ".py",
   "mimetype": "text/x-python",
   "name": "python",
   "nbconvert_exporter": "python",
   "pygments_lexer": "ipython3",
   "version": "3.10.0"
  }
 },
 "nbformat": 4,
 "nbformat_minor": 5
}
